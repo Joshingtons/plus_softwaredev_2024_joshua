{
 "cells": [
  {
   "cell_type": "code",
   "execution_count": 1,
   "id": "3f4624b5",
   "metadata": {},
   "outputs": [],
   "source": [
    "import joshua"
   ]
  },
  {
   "cell_type": "code",
   "execution_count": 2,
   "id": "9d8ccc28",
   "metadata": {},
   "outputs": [
    {
     "data": {
      "text/plain": [
       "'work'"
      ]
     },
     "execution_count": 2,
     "metadata": {},
     "output_type": "execute_result"
    }
   ],
   "source": [
    "joshua.variable"
   ]
  },
  {
   "cell_type": "code",
   "execution_count": 3,
   "id": "d7805e20",
   "metadata": {},
   "outputs": [
    {
     "name": "stdout",
     "output_type": "stream",
     "text": [
      "prince\n"
     ]
    }
   ],
   "source": [
    "joshua.joshua(\"prince\")"
   ]
  },
  {
   "cell_type": "code",
   "execution_count": null,
   "id": "4173cd96",
   "metadata": {},
   "outputs": [],
   "source": []
  }
 ],
 "metadata": {
  "kernelspec": {
   "display_name": "Python 3 (ipykernel)",
   "language": "python",
   "name": "python3"
  },
  "language_info": {
   "codemirror_mode": {
    "name": "ipython",
    "version": 3
   },
   "file_extension": ".py",
   "mimetype": "text/x-python",
   "name": "python",
   "nbconvert_exporter": "python",
   "pygments_lexer": "ipython3",
   "version": "3.9.18"
  }
 },
 "nbformat": 4,
 "nbformat_minor": 5
}
